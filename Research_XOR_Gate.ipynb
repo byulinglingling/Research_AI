{
  "nbformat": 4,
  "nbformat_minor": 0,
  "metadata": {
    "colab": {
      "name": "Research_XOR_Gate.ipynb",
      "provenance": [],
      "collapsed_sections": [],
      "authorship_tag": "ABX9TyMsjD0cvVrPmLhxHdHdbZwg",
      "include_colab_link": true
    },
    "kernelspec": {
      "name": "python3",
      "display_name": "Python 3"
    },
    "language_info": {
      "name": "python"
    }
  },
  "cells": [
    {
      "cell_type": "markdown",
      "metadata": {
        "id": "view-in-github",
        "colab_type": "text"
      },
      "source": [
        "<a href=\"https://colab.research.google.com/github/byulinglingling/Research_AI/blob/main/Research_XOR_Gate.ipynb\" target=\"_parent\"><img src=\"https://colab.research.google.com/assets/colab-badge.svg\" alt=\"Open In Colab\"/></a>"
      ]
    },
    {
      "cell_type": "code",
      "source": [
        "import numpy as np\n"
      ],
      "metadata": {
        "id": "24xI1HG8aSau"
      },
      "execution_count": null,
      "outputs": []
    },
    {
      "cell_type": "code",
      "source": [
        "    b1 = -3\n",
        "    b2 = 2\n",
        "    b3 = -2.5\n",
        "    b4 = 1"
      ],
      "metadata": {
        "id": "_Cdaafacbqzc"
      },
      "execution_count": null,
      "outputs": []
    },
    {
      "cell_type": "code",
      "execution_count": null,
      "metadata": {
        "id": "sw8RS75ETRsR"
      },
      "outputs": [],
      "source": [
        "def NAND1(x1, x2):\n",
        "    x=np.array([x1,x2])\n",
        "    w=np.array([2,1])\n",
        "    \n",
        "    temp=np.sum(w*x)+b1\n",
        "    \n",
        "    if temp<0:\n",
        "            return 1\n",
        "    else:\n",
        "            return 0"
      ]
    },
    {
      "cell_type": "code",
      "source": [
        "print (NAND1(0,0))\n",
        "print (NAND1(1,0))\n",
        "print (NAND1(0,1))\n",
        "print (NAND1(1,1))"
      ],
      "metadata": {
        "colab": {
          "base_uri": "https://localhost:8080/"
        },
        "id": "bRlM5GrQTkYL",
        "outputId": "8441a7b8-c04f-412d-d4e6-919842d95e2a"
      },
      "execution_count": null,
      "outputs": [
        {
          "output_type": "stream",
          "name": "stdout",
          "text": [
            "1\n",
            "1\n",
            "1\n",
            "0\n"
          ]
        }
      ]
    },
    {
      "cell_type": "code",
      "source": [
        "def OR2(x1,x2):\n",
        "    x=np.array([x1,x2])\n",
        "    w=np.array([2,1])\n",
        "    temp=np.sum(w*x)+b2\n",
        "\n",
        "    if temp>0:\n",
        "            return 1\n",
        "    else:\n",
        "            return 0"
      ],
      "metadata": {
        "id": "0sNKiVFGUN-K"
      },
      "execution_count": null,
      "outputs": []
    },
    {
      "cell_type": "code",
      "source": [
        "print (OR2(0,0))\n",
        "print (OR2(1,0))\n",
        "print (OR2(0,1))\n",
        "print (OR2(1,1))"
      ],
      "metadata": {
        "colab": {
          "base_uri": "https://localhost:8080/"
        },
        "id": "RFLBcLDFVkIf",
        "outputId": "5065dab0-fad9-45e6-df51-cd6f8c2c0c5d"
      },
      "execution_count": null,
      "outputs": [
        {
          "output_type": "stream",
          "name": "stdout",
          "text": [
            "1\n",
            "1\n",
            "1\n",
            "1\n"
          ]
        }
      ]
    },
    {
      "cell_type": "code",
      "source": [
        "def AND(x1,x2):\n",
        "    x=np.array([x1,x2])\n",
        "    w=np.array([0.5,0.5])\n",
        "    b=-0.7\n",
        "    temp=np.sum(w*x)+b\n",
        "\n",
        "    if temp<0:\n",
        "        return 1\n",
        "    else:\n",
        "        return 0"
      ],
      "metadata": {
        "id": "FUPhxAVHVq1O"
      },
      "execution_count": null,
      "outputs": []
    },
    {
      "cell_type": "code",
      "source": [
        "def XOR(x1,x2):\n",
        "    y1=NAND1(x1,x2)\n",
        "    y2=OR2(x1,x2)\n",
        "    y3=AND(y1,y2)\n",
        "    return y3"
      ],
      "metadata": {
        "id": "ANKwnC7DX1iU"
      },
      "execution_count": null,
      "outputs": []
    },
    {
      "cell_type": "code",
      "source": [
        "print (XOR(0,0))\n",
        "print (XOR(1,0))\n",
        "print (XOR(0,1))\n",
        "print (XOR(1,1))"
      ],
      "metadata": {
        "colab": {
          "base_uri": "https://localhost:8080/"
        },
        "id": "yGNAVZPBVodo",
        "outputId": "9bbba06b-aee4-4d84-b426-9cee8b056b83"
      },
      "execution_count": null,
      "outputs": [
        {
          "output_type": "stream",
          "name": "stdout",
          "text": [
            "0\n",
            "0\n",
            "0\n",
            "1\n"
          ]
        }
      ]
    },
    {
      "cell_type": "code",
      "source": [
        "def NAND3(x1, x2):\n",
        "    x=np.array([x1,x2])\n",
        "    w=np.array([1,2])    \n",
        "    temp=np.sum(w*x)+b3\n",
        "    \n",
        "    if temp<0:\n",
        "            return 1\n",
        "    else:\n",
        "            return 0\n"
      ],
      "metadata": {
        "id": "19AFLDQmW8Ny"
      },
      "execution_count": null,
      "outputs": []
    },
    {
      "cell_type": "code",
      "source": [
        "print (NAND3(0,0))\n",
        "print (NAND3(1,0))\n",
        "print (NAND3(0,1))\n",
        "print (NAND3(1,1))"
      ],
      "metadata": {
        "colab": {
          "base_uri": "https://localhost:8080/"
        },
        "id": "ukt50LYCXlzf",
        "outputId": "7f19e879-54d9-41ff-d627-e57553c0f1af"
      },
      "execution_count": null,
      "outputs": [
        {
          "output_type": "stream",
          "name": "stdout",
          "text": [
            "1\n",
            "1\n",
            "1\n",
            "0\n"
          ]
        }
      ]
    },
    {
      "cell_type": "code",
      "source": [
        "def OR4(x1,x2):\n",
        "    x=np.array([x1,x2])\n",
        "    w=np.array([1,2])\n",
        "    temp=np.sum(w*x)+b4\n",
        "\n",
        "    if temp>0:\n",
        "            return 1\n",
        "    else:\n",
        "            return 0"
      ],
      "metadata": {
        "id": "tR3rUHajXxrE"
      },
      "execution_count": null,
      "outputs": []
    },
    {
      "cell_type": "code",
      "source": [
        "print (OR4(0,0))\n",
        "print (OR4(1,0))\n",
        "print (OR4(0,1))\n",
        "print (OR4(1,1))"
      ],
      "metadata": {
        "colab": {
          "base_uri": "https://localhost:8080/"
        },
        "id": "3kEfULtEX99H",
        "outputId": "4e51d9d0-55f2-4ed9-952c-9a0d044bee67"
      },
      "execution_count": null,
      "outputs": [
        {
          "output_type": "stream",
          "name": "stdout",
          "text": [
            "1\n",
            "1\n",
            "1\n",
            "1\n"
          ]
        }
      ]
    },
    {
      "cell_type": "code",
      "source": [
        "def XOR2(x1,x2):\n",
        "    y4=NAND3(x1,x2)\n",
        "    y5=OR4(x1,x2)\n",
        "    y6=AND(y4,y5)\n",
        "    return y6"
      ],
      "metadata": {
        "id": "2rKU83nHYDLZ"
      },
      "execution_count": null,
      "outputs": []
    },
    {
      "cell_type": "code",
      "source": [
        "print (XOR2(0,0))\n",
        "print (XOR2(1,0))\n",
        "print (XOR2(0,1))\n",
        "print (XOR2(1,1))"
      ],
      "metadata": {
        "colab": {
          "base_uri": "https://localhost:8080/"
        },
        "id": "BIgMAGx1YNm5",
        "outputId": "292da629-c56a-443d-bcfa-e6a52553c2fc"
      },
      "execution_count": null,
      "outputs": [
        {
          "output_type": "stream",
          "name": "stdout",
          "text": [
            "0\n",
            "0\n",
            "0\n",
            "1\n"
          ]
        }
      ]
    },
    {
      "cell_type": "code",
      "source": [
        "def AND2(x1,x2):\n",
        "    y7=XOR(x1,x2)\n",
        "    y8=XOR2(x1,x2)\n",
        "    y9=AND(y7,y8)\n",
        "    return y9"
      ],
      "metadata": {
        "id": "-b5hlodHYRX3"
      },
      "execution_count": null,
      "outputs": []
    },
    {
      "cell_type": "code",
      "source": [
        "print (AND2(0,0))\n",
        "print (AND2(1,0))\n",
        "print (AND2(0,1))\n",
        "print (AND2(1,1))"
      ],
      "metadata": {
        "colab": {
          "base_uri": "https://localhost:8080/"
        },
        "id": "FV2tnXzxZIAf",
        "outputId": "5f6a52b5-dfae-4c05-db65-2e265a136e28"
      },
      "execution_count": null,
      "outputs": [
        {
          "output_type": "stream",
          "name": "stdout",
          "text": [
            "1\n",
            "1\n",
            "1\n",
            "0\n"
          ]
        }
      ]
    },
    {
      "cell_type": "code",
      "source": [
        ""
      ],
      "metadata": {
        "id": "qyspp7bYZL2U"
      },
      "execution_count": null,
      "outputs": []
    }
  ]
}